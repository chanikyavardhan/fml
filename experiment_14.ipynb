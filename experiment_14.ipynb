{
  "nbformat": 4,
  "nbformat_minor": 0,
  "metadata": {
    "colab": {
      "name": "experiment-14.ipynb",
      "provenance": [],
      "authorship_tag": "ABX9TyO+9J2OnLdzM31CE8pTEB5c",
      "include_colab_link": true
    },
    "kernelspec": {
      "name": "python3",
      "display_name": "Python 3"
    },
    "language_info": {
      "name": "python"
    }
  },
  "cells": [
    {
      "cell_type": "markdown",
      "metadata": {
        "id": "view-in-github",
        "colab_type": "text"
      },
      "source": [
        "<a href=\"https://colab.research.google.com/github/chanikyavardhan/fml/blob/main/experiment_14.ipynb\" target=\"_parent\"><img src=\"https://colab.research.google.com/assets/colab-badge.svg\" alt=\"Open In Colab\"/></a>"
      ]
    },
    {
      "cell_type": "code",
      "execution_count": 14,
      "metadata": {
        "colab": {
          "base_uri": "https://localhost:8080/"
        },
        "id": "slMoNava2gvk",
        "outputId": "34108eb8-fb86-411d-ae54-509a419a7ca3"
      },
      "outputs": [
        {
          "output_type": "stream",
          "name": "stdout",
          "text": [
            "Looking in indexes: https://pypi.org/simple, https://us-python.pkg.dev/colab-wheels/public/simple/\n",
            "Requirement already satisfied: nltk in /usr/local/lib/python3.7/dist-packages (3.7)\n",
            "Requirement already satisfied: click in /usr/local/lib/python3.7/dist-packages (from nltk) (7.1.2)\n",
            "Requirement already satisfied: regex>=2021.8.3 in /usr/local/lib/python3.7/dist-packages (from nltk) (2022.6.2)\n",
            "Requirement already satisfied: joblib in /usr/local/lib/python3.7/dist-packages (from nltk) (1.1.0)\n",
            "Requirement already satisfied: tqdm in /usr/local/lib/python3.7/dist-packages (from nltk) (4.64.0)\n"
          ]
        }
      ],
      "source": [
        "!pip install  nltk\n"
      ]
    },
    {
      "cell_type": "markdown",
      "source": [
        ""
      ],
      "metadata": {
        "id": "HsvJhsFx8arb"
      }
    },
    {
      "cell_type": "code",
      "source": [
        "#import necessary libraries\n",
        "import nltk\n",
        "nltk.download('punkt')\n",
        "from nltk.tokenize import word_tokenize\n",
        "text =  \"\"\"We are  learning Natural Language Processing as part of Fundamentals of Machine Learning in our second year B.Tech.\"\"\"\n",
        "tokens = word_tokenize(text)\n",
        "print(tokens)\n",
        "print(\"No.of tokens : \", len(tokens))"
      ],
      "metadata": {
        "colab": {
          "base_uri": "https://localhost:8080/"
        },
        "id": "xBehwE095vzE",
        "outputId": "69aa215a-acc7-4a59-a84d-fb1771ea4b98"
      },
      "execution_count": 23,
      "outputs": [
        {
          "output_type": "stream",
          "name": "stdout",
          "text": [
            "['We', 'are', 'learning', 'Natural', 'Language', 'Processing', 'as', 'part', 'of', 'Fundamentals', 'of', 'Machine', 'Learning', 'in', 'our', 'second', 'year', 'B.Tech', '.']\n",
            "No.of tokens :  19\n"
          ]
        },
        {
          "output_type": "stream",
          "name": "stderr",
          "text": [
            "[nltk_data] Downloading package punkt to /root/nltk_data...\n",
            "[nltk_data]   Package punkt is already up-to-date!\n"
          ]
        }
      ]
    },
    {
      "cell_type": "markdown",
      "source": [
        "**Text Tokenization using split() method**"
      ],
      "metadata": {
        "id": "oOGNv9wY8exn"
      }
    },
    {
      "cell_type": "code",
      "source": [
        "text = \"Dolphins are regarded as the friendliest creatures in the sea and stories of them helping drowning sailors have been common since Roman times. The more we learn about dolphins, the more we realize that their society is more complex than people previously imagined. They look after other dolphins when they are ill, care for pregnant mothers and protect the weakest in the community, as we do. Some scientists have suggested that dolphins have a language but it is much more probable that they communicate with each other without needing words. Could any of these mammals be more intelligent than man? Certainly the most common argument in favor of man's superiority over them that we can kill them more easily than they can kill us is the least satisfactory. On the contrary, the more we discover about these remarkable creatures, the less we appear superior when we destroy them.\"\n",
        "token = text.split()\n",
        "print(token)\n",
        "print(len(token))"
      ],
      "metadata": {
        "colab": {
          "base_uri": "https://localhost:8080/"
        },
        "id": "-7uLPCoF8qHn",
        "outputId": "959d526b-ec88-4ed3-a4d7-cccc1ebff4c8"
      },
      "execution_count": 13,
      "outputs": [
        {
          "output_type": "stream",
          "name": "stdout",
          "text": [
            "['Dolphins', 'are', 'regarded', 'as', 'the', 'friendliest', 'creatures', 'in', 'the', 'sea', 'and', 'stories', 'of', 'them', 'helping', 'drowning', 'sailors', 'have', 'been', 'common', 'since', 'Roman', 'times.', 'The', 'more', 'we', 'learn', 'about', 'dolphins,', 'the', 'more', 'we', 'realize', 'that', 'their', 'society', 'is', 'more', 'complex', 'than', 'people', 'previously', 'imagined.', 'They', 'look', 'after', 'other', 'dolphins', 'when', 'they', 'are', 'ill,', 'care', 'for', 'pregnant', 'mothers', 'and', 'protect', 'the', 'weakest', 'in', 'the', 'community,', 'as', 'we', 'do.', 'Some', 'scientists', 'have', 'suggested', 'that', 'dolphins', 'have', 'a', 'language', 'but', 'it', 'is', 'much', 'more', 'probable', 'that', 'they', 'communicate', 'with', 'each', 'other', 'without', 'needing', 'words.', 'Could', 'any', 'of', 'these', 'mammals', 'be', 'more', 'intelligent', 'than', 'man?', 'Certainly', 'the', 'most', 'common', 'argument', 'in', 'favor', 'of', \"man's\", 'superiority', 'over', 'them', 'that', 'we', 'can', 'kill', 'them', 'more', 'easily', 'than', 'they', 'can', 'kill', 'us', 'is', 'the', 'least', 'satisfactory.', 'On', 'the', 'contrary,', 'the', 'more', 'we', 'discover', 'about', 'these', 'remarkable', 'creatures,', 'the', 'less', 'we', 'appear', 'superior', 'when', 'we', 'destroy', 'them.']\n",
            "148\n"
          ]
        }
      ]
    },
    {
      "cell_type": "markdown",
      "source": [
        "**Text tokenization using Regular expression(Re)**"
      ],
      "metadata": {
        "id": "ED1xoAUXA4MS"
      }
    },
    {
      "cell_type": "code",
      "source": [
        "#import re\n",
        "import re"
      ],
      "metadata": {
        "id": "nv98riNfBGa3"
      },
      "execution_count": 24,
      "outputs": []
    },
    {
      "cell_type": "code",
      "source": [
        "text = \"Dolphins are regarded as the friendliest creatures in the sea and stories of them helping drowning sailors have been common since Roman times. The more we learn about dolphins, the more we realize that their society is more complex than people previously imagined. They look after other dolphins when they are ill, care for pregnant mothers and protect the weakest in the community, as we do. Some scientists have suggested that dolphins have a language but it is much more probable that they communicate with each other without needing words. Could any of these mammals be more intelligent than man? Certainly the most common argument in favor of man's superiority over them that we can kill them more easily than they can kill us is the least satisfactory. On the contrary, the more we discover about these remarkable creatures, the less we appear superior when we destroy them.\"\n",
        "token = re.findall(\"[\\w']+\", text)\n",
        "print(token)\n",
        "print(\"No.of tokens\",len(token))"
      ],
      "metadata": {
        "colab": {
          "base_uri": "https://localhost:8080/"
        },
        "id": "plofH-f3BY_x",
        "outputId": "2371a0d6-b784-4c4e-b770-5bd777ad56ec"
      },
      "execution_count": 26,
      "outputs": [
        {
          "output_type": "stream",
          "name": "stdout",
          "text": [
            "['Dolphins', 'are', 'regarded', 'as', 'the', 'friendliest', 'creatures', 'in', 'the', 'sea', 'and', 'stories', 'of', 'them', 'helping', 'drowning', 'sailors', 'have', 'been', 'common', 'since', 'Roman', 'times', 'The', 'more', 'we', 'learn', 'about', 'dolphins', 'the', 'more', 'we', 'realize', 'that', 'their', 'society', 'is', 'more', 'complex', 'than', 'people', 'previously', 'imagined', 'They', 'look', 'after', 'other', 'dolphins', 'when', 'they', 'are', 'ill', 'care', 'for', 'pregnant', 'mothers', 'and', 'protect', 'the', 'weakest', 'in', 'the', 'community', 'as', 'we', 'do', 'Some', 'scientists', 'have', 'suggested', 'that', 'dolphins', 'have', 'a', 'language', 'but', 'it', 'is', 'much', 'more', 'probable', 'that', 'they', 'communicate', 'with', 'each', 'other', 'without', 'needing', 'words', 'Could', 'any', 'of', 'these', 'mammals', 'be', 'more', 'intelligent', 'than', 'man', 'Certainly', 'the', 'most', 'common', 'argument', 'in', 'favor', 'of', \"man's\", 'superiority', 'over', 'them', 'that', 'we', 'can', 'kill', 'them', 'more', 'easily', 'than', 'they', 'can', 'kill', 'us', 'is', 'the', 'least', 'satisfactory', 'On', 'the', 'contrary', 'the', 'more', 'we', 'discover', 'about', 'these', 'remarkable', 'creatures', 'the', 'less', 'we', 'appear', 'superior', 'when', 'we', 'destroy', 'them']\n",
            "No.of tokens 148\n"
          ]
        }
      ]
    },
    {
      "cell_type": "code",
      "source": [
        "#sentence tokenization\n",
        "sentences = re.compile('[.?!] ').split(text)\n",
        "print(sentences)\n",
        "print(\"No.of sentences : \", len(sentences))"
      ],
      "metadata": {
        "colab": {
          "base_uri": "https://localhost:8080/"
        },
        "id": "usXiXTbpCVBM",
        "outputId": "52728761-2352-453a-af56-3f0692b64c56"
      },
      "execution_count": 28,
      "outputs": [
        {
          "output_type": "stream",
          "name": "stdout",
          "text": [
            "['Dolphins are regarded as the friendliest creatures in the sea and stories of them helping drowning sailors have been common since Roman times', 'The more we learn about dolphins, the more we realize that their society is more complex than people previously imagined', 'They look after other dolphins when they are ill, care for pregnant mothers and protect the weakest in the community, as we do', 'Some scientists have suggested that dolphins have a language but it is much more probable that they communicate with each other without needing words', 'Could any of these mammals be more intelligent than man', \"Certainly the most common argument in favor of man's superiority over them that we can kill them more easily than they can kill us is the least satisfactory\", 'On the contrary, the more we discover about these remarkable creatures, the less we appear superior when we destroy them.']\n",
            "No.of sentences :  7\n"
          ]
        }
      ]
    }
  ]
}